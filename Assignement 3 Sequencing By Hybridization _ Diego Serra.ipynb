{
 "cells": [
  {
   "cell_type": "markdown",
   "id": "6c6466f1",
   "metadata": {},
   "source": [
    "# Algorithms in Computational Biology | Diego Serra\n",
    "# Assignment 3: Sequencing by hybridization"
   ]
  },
  {
   "cell_type": "markdown",
   "id": "6833f93f",
   "metadata": {},
   "source": [
    "### Sequencing by hybridization"
   ]
  },
  {
   "cell_type": "markdown",
   "id": "e79614c7",
   "metadata": {},
   "source": [
    "Given an unknown DNA sequence, an array provides information about\n",
    "all strings of length l that the sequence contains, but does not provide information about their positions in the sequence. For a string $s$ of length $l$, the $l$-mer composition or $spectrum$ is the multiset of $n-l + 1 l$-mers in $s$ and is written $Spectrum(s, l)$."
   ]
  },
  {
   "cell_type": "markdown",
   "id": "331fe40b",
   "metadata": {},
   "source": [
    "#### The objective of this code will be to to sequence a target DNA fragment from its DNA array data."
   ]
  },
  {
   "cell_type": "markdown",
   "id": "e999f090",
   "metadata": {},
   "source": [
    "To solve this problem, I will based my approach on Graph theory and Eulerian path. Therefore, this work will be divided in 4 main steps :"
   ]
  },
  {
   "cell_type": "markdown",
   "id": "4c7bc51e",
   "metadata": {},
   "source": [
    "1) Write a spectrum(s,l) function that will return a dictionnary that maps each length-l DNA sequence to the number of times it appears in s.\n",
    "\n",
    "2) Write a graphFromSpectrum(A) function that will maps the (names of) the vertices to a list of the destinations of the directed edges that begin in that vertex. --> directed multigraph\n",
    "\n",
    "3) Write a function EulerPath(G) that will find an Eulerian path in the constructed graph. \n",
    "\n",
    "4) Write a function stringFromPath(P) that will reconstruct the DNA sequence from the Eulerian path"
   ]
  },
  {
   "cell_type": "markdown",
   "id": "e85e4d05",
   "metadata": {},
   "source": [
    "### Step 1: $Spectrum(l,s)$"
   ]
  },
  {
   "cell_type": "code",
   "execution_count": 1,
   "id": "a8afdbc1",
   "metadata": {},
   "outputs": [],
   "source": [
    "import itertools\n",
    "import random"
   ]
  },
  {
   "cell_type": "code",
   "execution_count": 2,
   "id": "eaa5f14a",
   "metadata": {},
   "outputs": [],
   "source": [
    "def spectrum(l, s):\n",
    "    \"\"\" This function is used to return a dictionarry that maps all the possible l-mer to the number of times they appear \n",
    "        in the string.\n",
    "        ::paramater:: l is the length of the desired l-mer. \n",
    "        ::parameter:: s is the original string from which the l-mer are derived.\n",
    "        ::output:: spectrum is a dictionnary.\n",
    "    \"\"\"\n",
    "    # Generation of the dictionnary with all possibe length-l DNA fragments.\n",
    "    spectrum = {} \n",
    "    combinations = [''.join(i) for i in itertools.product('atgc', repeat = l)]\n",
    "    \n",
    "    for i in combinations:\n",
    "        spectrum[i] = 0\n",
    "    \n",
    "    # Fill the dictionnary with the length-l s fragments.\n",
    "    \n",
    "    j = 0\n",
    "    \n",
    "    while j < len(s) - l + 1: # Max number of l-mer = len(s)-l+1\n",
    "        \n",
    "        spectrum[s[j:j+l]] += 1\n",
    "        j+= 1\n",
    "        \n",
    "    return spectrum\n",
    "        "
   ]
  },
  {
   "cell_type": "code",
   "execution_count": 3,
   "id": "b5987dcc",
   "metadata": {},
   "outputs": [],
   "source": [
    "def printSpectrum(spectrum): \n",
    "    \"\"\" This function is used to print out nicely the spectrum.\n",
    "        ::param:: spectrum is a dictionnary that maps all the possible l-mer to the number of times they appear \n",
    "        in a string.\n",
    "    \"\"\" \n",
    "        \n",
    "    spacing = 0\n",
    "    \n",
    "    for key, val in spectrum.items():\n",
    "            \n",
    "        if spacing == 4: # 4 columns\n",
    "            print('\\n')\n",
    "            spacing = 0\n",
    "            \n",
    "        print(key,val, end='  ')\n",
    "        spacing += 1"
   ]
  },
  {
   "cell_type": "code",
   "execution_count": 4,
   "id": "9f7e189c",
   "metadata": {},
   "outputs": [],
   "source": [
    "def randomDNA(length):\n",
    "    \"\"\" This function is used to return a random DNA sequence of length: lenght.\n",
    "        ::param:: length is the length of the desired random sequence\n",
    "        ::output:: random DNA sequence.\n",
    "    \"\"\"\n",
    "    random_dna = \"\".join(random.choice('atgc') for i in range(length))\n",
    "    \n",
    "    return random_dna"
   ]
  },
  {
   "cell_type": "markdown",
   "id": "7b57f5c3",
   "metadata": {},
   "source": [
    "<b>Function Test :</b>"
   ]
  },
  {
   "cell_type": "code",
   "execution_count": 5,
   "id": "d4f238df",
   "metadata": {
    "scrolled": false
   },
   "outputs": [
    {
     "name": "stdout",
     "output_type": "stream",
     "text": [
      "Original string:  tgacatgtgaattacatgtt\n",
      "\n",
      "aaaa 0  aaat 0  aaag 0  aaac 0  \n",
      "\n",
      "aata 0  aatt 1  aatg 0  aatc 0  \n",
      "\n",
      "aaga 0  aagt 0  aagg 0  aagc 0  \n",
      "\n",
      "aaca 0  aact 0  aacg 0  aacc 0  \n",
      "\n",
      "ataa 0  atat 0  atag 0  atac 0  \n",
      "\n",
      "atta 1  attt 0  attg 0  attc 0  \n",
      "\n",
      "atga 0  atgt 2  atgg 0  atgc 0  \n",
      "\n",
      "atca 0  atct 0  atcg 0  atcc 0  \n",
      "\n",
      "agaa 0  agat 0  agag 0  agac 0  \n",
      "\n",
      "agta 0  agtt 0  agtg 0  agtc 0  \n",
      "\n",
      "agga 0  aggt 0  aggg 0  aggc 0  \n",
      "\n",
      "agca 0  agct 0  agcg 0  agcc 0  \n",
      "\n",
      "acaa 0  acat 2  acag 0  acac 0  \n",
      "\n",
      "acta 0  actt 0  actg 0  actc 0  \n",
      "\n",
      "acga 0  acgt 0  acgg 0  acgc 0  \n",
      "\n",
      "acca 0  acct 0  accg 0  accc 0  \n",
      "\n",
      "taaa 0  taat 0  taag 0  taac 0  \n",
      "\n",
      "tata 0  tatt 0  tatg 0  tatc 0  \n",
      "\n",
      "taga 0  tagt 0  tagg 0  tagc 0  \n",
      "\n",
      "taca 1  tact 0  tacg 0  tacc 0  \n",
      "\n",
      "ttaa 0  ttat 0  ttag 0  ttac 1  \n",
      "\n",
      "ttta 0  tttt 0  tttg 0  tttc 0  \n",
      "\n",
      "ttga 0  ttgt 0  ttgg 0  ttgc 0  \n",
      "\n",
      "ttca 0  ttct 0  ttcg 0  ttcc 0  \n",
      "\n",
      "tgaa 1  tgat 0  tgag 0  tgac 1  \n",
      "\n",
      "tgta 0  tgtt 1  tgtg 1  tgtc 0  \n",
      "\n",
      "tgga 0  tggt 0  tggg 0  tggc 0  \n",
      "\n",
      "tgca 0  tgct 0  tgcg 0  tgcc 0  \n",
      "\n",
      "tcaa 0  tcat 0  tcag 0  tcac 0  \n",
      "\n",
      "tcta 0  tctt 0  tctg 0  tctc 0  \n",
      "\n",
      "tcga 0  tcgt 0  tcgg 0  tcgc 0  \n",
      "\n",
      "tcca 0  tcct 0  tccg 0  tccc 0  \n",
      "\n",
      "gaaa 0  gaat 1  gaag 0  gaac 0  \n",
      "\n",
      "gata 0  gatt 0  gatg 0  gatc 0  \n",
      "\n",
      "gaga 0  gagt 0  gagg 0  gagc 0  \n",
      "\n",
      "gaca 1  gact 0  gacg 0  gacc 0  \n",
      "\n",
      "gtaa 0  gtat 0  gtag 0  gtac 0  \n",
      "\n",
      "gtta 0  gttt 0  gttg 0  gttc 0  \n",
      "\n",
      "gtga 1  gtgt 0  gtgg 0  gtgc 0  \n",
      "\n",
      "gtca 0  gtct 0  gtcg 0  gtcc 0  \n",
      "\n",
      "ggaa 0  ggat 0  ggag 0  ggac 0  \n",
      "\n",
      "ggta 0  ggtt 0  ggtg 0  ggtc 0  \n",
      "\n",
      "ggga 0  gggt 0  gggg 0  gggc 0  \n",
      "\n",
      "ggca 0  ggct 0  ggcg 0  ggcc 0  \n",
      "\n",
      "gcaa 0  gcat 0  gcag 0  gcac 0  \n",
      "\n",
      "gcta 0  gctt 0  gctg 0  gctc 0  \n",
      "\n",
      "gcga 0  gcgt 0  gcgg 0  gcgc 0  \n",
      "\n",
      "gcca 0  gcct 0  gccg 0  gccc 0  \n",
      "\n",
      "caaa 0  caat 0  caag 0  caac 0  \n",
      "\n",
      "cata 0  catt 0  catg 2  catc 0  \n",
      "\n",
      "caga 0  cagt 0  cagg 0  cagc 0  \n",
      "\n",
      "caca 0  cact 0  cacg 0  cacc 0  \n",
      "\n",
      "ctaa 0  ctat 0  ctag 0  ctac 0  \n",
      "\n",
      "ctta 0  cttt 0  cttg 0  cttc 0  \n",
      "\n",
      "ctga 0  ctgt 0  ctgg 0  ctgc 0  \n",
      "\n",
      "ctca 0  ctct 0  ctcg 0  ctcc 0  \n",
      "\n",
      "cgaa 0  cgat 0  cgag 0  cgac 0  \n",
      "\n",
      "cgta 0  cgtt 0  cgtg 0  cgtc 0  \n",
      "\n",
      "cgga 0  cggt 0  cggg 0  cggc 0  \n",
      "\n",
      "cgca 0  cgct 0  cgcg 0  cgcc 0  \n",
      "\n",
      "ccaa 0  ccat 0  ccag 0  ccac 0  \n",
      "\n",
      "ccta 0  cctt 0  cctg 0  cctc 0  \n",
      "\n",
      "ccga 0  ccgt 0  ccgg 0  ccgc 0  \n",
      "\n",
      "ccca 0  ccct 0  cccg 0  cccc 0  "
     ]
    }
   ],
   "source": [
    "random_dna = randomDNA(20)\n",
    "print('Original string: ', random_dna)\n",
    "print('')\n",
    "S = spectrum(4, random_dna)\n",
    "printSpectrum(S)"
   ]
  },
  {
   "cell_type": "markdown",
   "id": "279fc50f",
   "metadata": {},
   "source": [
    "### Step 2: $graphFromSpectrum(A)$"
   ]
  },
  {
   "cell_type": "code",
   "execution_count": 6,
   "id": "9040862b",
   "metadata": {},
   "outputs": [],
   "source": [
    "def graphFromSpectrum(spectrum):\n",
    "    \"\"\" This function is used to return a dictionnary that will maps the (names of) the vertices to a list of \n",
    "        the destinations of the directed edges that begin in that vertex.\n",
    "        ::param:: spectrum  is a dictionnary that maps  all the possible l-mer to the number of times they appear \n",
    "        in a string.\n",
    "        ::output:: a Graph that maps the vertices to a list of adjencent vertices.\n",
    "    \"\"\"\n",
    "    lmer = len(list(spectrum.keys())[0])-1 # Vertices are l-1 mer.  \n",
    "    \n",
    "    # All possible l-1 mer.\n",
    "    \n",
    "    lmer_list = [''.join(i) for i in itertools.product('atgc', repeat = lmer)]\n",
    "    Graph = {i:[] for i in lmer_list}\n",
    "    \n",
    "    # Taking only the k-mer that are present at least 1x in the strings\n",
    "    \n",
    "    kmer_list = [] # list of tuples containing the kmer divided in their respective k-1mer 'ATG' --> ('AT', 'TG')\n",
    "    \n",
    "    for kmer in spectrum: \n",
    "            for i in range (spectrum[kmer]): # Number of times the kmer is present\n",
    "                kmer_list.append((kmer[:len(kmer)-1], kmer[1:len(kmer)]))\n",
    "    \n",
    "    \n",
    "    for el in range(len(kmer_list)): # Maps a vertex with its adjacent vertex 'ATG' --> ('AT', 'TG') --> {'AT': ['TG']}\n",
    "        Graph[kmer_list[el][0]].append(kmer_list[el][1])\n",
    "    \n",
    "    return Graph\n",
    "    \n",
    "    "
   ]
  },
  {
   "cell_type": "code",
   "execution_count": 7,
   "id": "1592a81a",
   "metadata": {},
   "outputs": [],
   "source": [
    "def printGraph(graph): \n",
    "    \"\"\" This function is used to print out nicely the graph.\n",
    "    \"\"\"\n",
    "    \n",
    "    for key, val in graph.items(): \n",
    "        \n",
    "        print(key, ':', val, '\\n')"
   ]
  },
  {
   "cell_type": "markdown",
   "id": "7c7c40a3",
   "metadata": {},
   "source": [
    "<b>Function Test :</b>"
   ]
  },
  {
   "cell_type": "code",
   "execution_count": 8,
   "id": "ffd622a3",
   "metadata": {
    "scrolled": false
   },
   "outputs": [
    {
     "name": "stdout",
     "output_type": "stream",
     "text": [
      "aaa : [] \n",
      "\n",
      "aat : ['att'] \n",
      "\n",
      "aag : [] \n",
      "\n",
      "aac : [] \n",
      "\n",
      "ata : [] \n",
      "\n",
      "att : ['tta'] \n",
      "\n",
      "atg : ['tgt', 'tgt'] \n",
      "\n",
      "atc : [] \n",
      "\n",
      "aga : [] \n",
      "\n",
      "agt : [] \n",
      "\n",
      "agg : [] \n",
      "\n",
      "agc : [] \n",
      "\n",
      "aca : ['cat', 'cat'] \n",
      "\n",
      "act : [] \n",
      "\n",
      "acg : [] \n",
      "\n",
      "acc : [] \n",
      "\n",
      "taa : [] \n",
      "\n",
      "tat : [] \n",
      "\n",
      "tag : [] \n",
      "\n",
      "tac : ['aca'] \n",
      "\n",
      "tta : ['tac'] \n",
      "\n",
      "ttt : [] \n",
      "\n",
      "ttg : [] \n",
      "\n",
      "ttc : [] \n",
      "\n",
      "tga : ['gaa', 'gac'] \n",
      "\n",
      "tgt : ['gtt', 'gtg'] \n",
      "\n",
      "tgg : [] \n",
      "\n",
      "tgc : [] \n",
      "\n",
      "tca : [] \n",
      "\n",
      "tct : [] \n",
      "\n",
      "tcg : [] \n",
      "\n",
      "tcc : [] \n",
      "\n",
      "gaa : ['aat'] \n",
      "\n",
      "gat : [] \n",
      "\n",
      "gag : [] \n",
      "\n",
      "gac : ['aca'] \n",
      "\n",
      "gta : [] \n",
      "\n",
      "gtt : [] \n",
      "\n",
      "gtg : ['tga'] \n",
      "\n",
      "gtc : [] \n",
      "\n",
      "gga : [] \n",
      "\n",
      "ggt : [] \n",
      "\n",
      "ggg : [] \n",
      "\n",
      "ggc : [] \n",
      "\n",
      "gca : [] \n",
      "\n",
      "gct : [] \n",
      "\n",
      "gcg : [] \n",
      "\n",
      "gcc : [] \n",
      "\n",
      "caa : [] \n",
      "\n",
      "cat : ['atg', 'atg'] \n",
      "\n",
      "cag : [] \n",
      "\n",
      "cac : [] \n",
      "\n",
      "cta : [] \n",
      "\n",
      "ctt : [] \n",
      "\n",
      "ctg : [] \n",
      "\n",
      "ctc : [] \n",
      "\n",
      "cga : [] \n",
      "\n",
      "cgt : [] \n",
      "\n",
      "cgg : [] \n",
      "\n",
      "cgc : [] \n",
      "\n",
      "cca : [] \n",
      "\n",
      "cct : [] \n",
      "\n",
      "ccg : [] \n",
      "\n",
      "ccc : [] \n",
      "\n"
     ]
    }
   ],
   "source": [
    "G = graphFromSpectrum(S)\n",
    "printGraph(G)"
   ]
  },
  {
   "cell_type": "markdown",
   "id": "34e7a2df",
   "metadata": {},
   "source": [
    "### Step 2: $EulerPath(G)$"
   ]
  },
  {
   "cell_type": "code",
   "execution_count": 9,
   "id": "6a457a86",
   "metadata": {},
   "outputs": [],
   "source": [
    "from copy import deepcopy"
   ]
  },
  {
   "cell_type": "code",
   "execution_count": 10,
   "id": "c7e20c7f",
   "metadata": {},
   "outputs": [],
   "source": [
    "def CheckEulerian(graph): \n",
    "    \"\"\" This function is used to return if there is a possible eulerian path in a graph. Moreover, if it detects\n",
    "        semibalanced vertex, it will return them (at most 2 which are starting and ending vertex).\n",
    "        ::param:: a graph that maps the vertices to a list of adjencent vertices.\n",
    "        ::output:: True/False if the graph contains an Euler path.\n",
    "        ::output:: start/end if the graph has starting or ending vertex.\n",
    "    \"\"\"\n",
    "    # Taking only the vertex that are present in the graph\n",
    "    \n",
    "    keys_dic  = [el for el in graph.keys() if graph[el] != []]\n",
    "    values_dic = [el[::] for el in graph.values() if el != []]\n",
    "    values_list =[]\n",
    "    \n",
    "    for el in  values_dic:\n",
    "        for el2 in el:\n",
    "            \n",
    "            values_list.append(el2)\n",
    "    \n",
    "    # start and end are the vertex that might be semibalanced (there must be only one)\n",
    "    \n",
    "    start = []  # start has one more outdegree than indegree\n",
    "    end = [] # end has one more indegree than outdegree\n",
    "    \n",
    "    # Balance --> The vertex has the same amount of outgoing edges (dic[key]) and incoming edges (number of times the vertex appear in values).\n",
    "    # Semibalance --> the vertex has either one more outgoing edge or incoming edge. At most 2 for Euler path, the rest should be balanced.\n",
    "    for el in keys_dic:\n",
    "        \n",
    "        indegree = values_list.count(el)\n",
    "        outdegree = len(graph[el])\n",
    "        \n",
    "        if indegree != outdegree:\n",
    "            \n",
    "            if indegree - outdegree == 1: \n",
    "                \n",
    "                end.append(el)\n",
    "                \n",
    "                if len(end) > 1:\n",
    "                    \n",
    "                    return False\n",
    "                \n",
    "            elif outdegree - indegree == 1:\n",
    "                \n",
    "                start.append(el)\n",
    "                \n",
    "                if len(start) > 1:\n",
    "                    \n",
    "                    return False\n",
    "            else:\n",
    "                \n",
    "                return False\n",
    "    \n",
    "    \n",
    "    return True, start, end"
   ]
  },
  {
   "cell_type": "code",
   "execution_count": 11,
   "id": "cdb7b10c",
   "metadata": {},
   "outputs": [],
   "source": [
    "def EulerPath(graph): \n",
    "    \"\"\" This function is used to return an Eulerian path from a graph.\n",
    "        ::parameter:: a graph that maps the vertices to a list of adjencent vertices.\n",
    "        ::output:: 'No Euler path found' or Euler path.\n",
    "    \"\"\"\n",
    "    \n",
    "    Graph = deepcopy(graph) # Avoid modifying the initial graph if you want to reuse\n",
    "    \n",
    "    Euler, start, end = CheckEulerian(Graph)\n",
    "    \n",
    "     \n",
    "    if Euler == True: # If it exists and eulerian path (see conditions)\n",
    "        \n",
    "    \n",
    "        if len(start) == 0:\n",
    "            start_v = random.choice(list(Graph.keys()))\n",
    "        \n",
    "        else: \n",
    "            start_v = start[0]\n",
    "            \n",
    "            \n",
    "        temporary_path = [start_v]\n",
    "        \n",
    "        final_path = [] \n",
    "\n",
    "        while temporary_path != []:\n",
    "                \n",
    "            next_node = temporary_path[-1]\n",
    "                \n",
    "            if Graph[next_node] != []:\n",
    "                    \n",
    "                temporary_path.append(Graph[next_node][0])\n",
    "                Graph[next_node].remove(Graph[next_node][0])\n",
    "                \n",
    "                    \n",
    "            else:\n",
    "                    \n",
    "                temporary_path.pop(-1)\n",
    "                final_path.insert(0, next_node)\n",
    "                    \n",
    "    \n",
    "        return final_path\n",
    "\n",
    "    \n",
    "    else:\n",
    "        \n",
    "        return 'No Euler path possible'\n",
    "        \n",
    "    "
   ]
  },
  {
   "cell_type": "markdown",
   "id": "fa957e68",
   "metadata": {},
   "source": [
    "<div class=\"alert alert-block alert-warning\">\n",
    "<b>Algorithm:</b>  The algorithm is based on the Hierholzer’s Algorithm.\n",
    "</div>"
   ]
  },
  {
   "cell_type": "markdown",
   "id": "08c3f71b",
   "metadata": {},
   "source": [
    "<b>Function Test :</b>"
   ]
  },
  {
   "cell_type": "code",
   "execution_count": 12,
   "id": "8323e6e9",
   "metadata": {
    "scrolled": true
   },
   "outputs": [
    {
     "name": "stdout",
     "output_type": "stream",
     "text": [
      "['tga', 'gaa', 'aat', 'att', 'tta', 'tac', 'aca', 'cat', 'atg', 'tgt', 'gtg', 'tga', 'gac', 'aca', 'cat', 'atg', 'tgt', 'gtt']\n"
     ]
    }
   ],
   "source": [
    "P=EulerPath(G)\n",
    "print(P)"
   ]
  },
  {
   "cell_type": "markdown",
   "id": "70a5829b",
   "metadata": {},
   "source": [
    "### Step 4: $stringFromPath(P)$"
   ]
  },
  {
   "cell_type": "code",
   "execution_count": 13,
   "id": "7349a31b",
   "metadata": {},
   "outputs": [],
   "source": [
    "def stringFromPath(path):\n",
    "    \"\"\" Function used to return the concatenated string from the Euler path.\n",
    "        ::param:: An Euler path. (i.e., list of strings)\n",
    "        ::output:: the reconstructed DNA string.\n",
    "    \"\"\"\n",
    "    \n",
    "    string = path[0]\n",
    "    \n",
    "    for el in path[1::]:\n",
    "        \n",
    "        string += el[-1]\n",
    "    return string   "
   ]
  },
  {
   "cell_type": "markdown",
   "id": "d4ac630c",
   "metadata": {},
   "source": [
    "<b>Function Test :</b>"
   ]
  },
  {
   "cell_type": "code",
   "execution_count": 14,
   "id": "920b4afe",
   "metadata": {},
   "outputs": [
    {
     "name": "stdout",
     "output_type": "stream",
     "text": [
      "tgaattacatgtgacatgtt\n"
     ]
    }
   ],
   "source": [
    "string = stringFromPath(P)\n",
    "print(string)"
   ]
  },
  {
   "cell_type": "markdown",
   "id": "11906347",
   "metadata": {},
   "source": [
    "## Final Test"
   ]
  },
  {
   "cell_type": "code",
   "execution_count": 15,
   "id": "537f7475",
   "metadata": {
    "scrolled": false
   },
   "outputs": [
    {
     "name": "stdout",
     "output_type": "stream",
     "text": [
      "Orginal Sequence  ccgtcggtgaattgatgagc\n",
      "\n",
      "Spectrum\n",
      "aaaa 0  aaat 0  aaag 0  aaac 0  \n",
      "\n",
      "aata 0  aatt 1  aatg 0  aatc 0  \n",
      "\n",
      "aaga 0  aagt 0  aagg 0  aagc 0  \n",
      "\n",
      "aaca 0  aact 0  aacg 0  aacc 0  \n",
      "\n",
      "ataa 0  atat 0  atag 0  atac 0  \n",
      "\n",
      "atta 0  attt 0  attg 1  attc 0  \n",
      "\n",
      "atga 1  atgt 0  atgg 0  atgc 0  \n",
      "\n",
      "atca 0  atct 0  atcg 0  atcc 0  \n",
      "\n",
      "agaa 0  agat 0  agag 0  agac 0  \n",
      "\n",
      "agta 0  agtt 0  agtg 0  agtc 0  \n",
      "\n",
      "agga 0  aggt 0  aggg 0  aggc 0  \n",
      "\n",
      "agca 0  agct 0  agcg 0  agcc 0  \n",
      "\n",
      "acaa 0  acat 0  acag 0  acac 0  \n",
      "\n",
      "acta 0  actt 0  actg 0  actc 0  \n",
      "\n",
      "acga 0  acgt 0  acgg 0  acgc 0  \n",
      "\n",
      "acca 0  acct 0  accg 0  accc 0  \n",
      "\n",
      "taaa 0  taat 0  taag 0  taac 0  \n",
      "\n",
      "tata 0  tatt 0  tatg 0  tatc 0  \n",
      "\n",
      "taga 0  tagt 0  tagg 0  tagc 0  \n",
      "\n",
      "taca 0  tact 0  tacg 0  tacc 0  \n",
      "\n",
      "ttaa 0  ttat 0  ttag 0  ttac 0  \n",
      "\n",
      "ttta 0  tttt 0  tttg 0  tttc 0  \n",
      "\n",
      "ttga 1  ttgt 0  ttgg 0  ttgc 0  \n",
      "\n",
      "ttca 0  ttct 0  ttcg 0  ttcc 0  \n",
      "\n",
      "tgaa 1  tgat 1  tgag 1  tgac 0  \n",
      "\n",
      "tgta 0  tgtt 0  tgtg 0  tgtc 0  \n",
      "\n",
      "tgga 0  tggt 0  tggg 0  tggc 0  \n",
      "\n",
      "tgca 0  tgct 0  tgcg 0  tgcc 0  \n",
      "\n",
      "tcaa 0  tcat 0  tcag 0  tcac 0  \n",
      "\n",
      "tcta 0  tctt 0  tctg 0  tctc 0  \n",
      "\n",
      "tcga 0  tcgt 0  tcgg 1  tcgc 0  \n",
      "\n",
      "tcca 0  tcct 0  tccg 0  tccc 0  \n",
      "\n",
      "gaaa 0  gaat 1  gaag 0  gaac 0  \n",
      "\n",
      "gata 0  gatt 0  gatg 1  gatc 0  \n",
      "\n",
      "gaga 0  gagt 0  gagg 0  gagc 1  \n",
      "\n",
      "gaca 0  gact 0  gacg 0  gacc 0  \n",
      "\n",
      "gtaa 0  gtat 0  gtag 0  gtac 0  \n",
      "\n",
      "gtta 0  gttt 0  gttg 0  gttc 0  \n",
      "\n",
      "gtga 1  gtgt 0  gtgg 0  gtgc 0  \n",
      "\n",
      "gtca 0  gtct 0  gtcg 1  gtcc 0  \n",
      "\n",
      "ggaa 0  ggat 0  ggag 0  ggac 0  \n",
      "\n",
      "ggta 0  ggtt 0  ggtg 1  ggtc 0  \n",
      "\n",
      "ggga 0  gggt 0  gggg 0  gggc 0  \n",
      "\n",
      "ggca 0  ggct 0  ggcg 0  ggcc 0  \n",
      "\n",
      "gcaa 0  gcat 0  gcag 0  gcac 0  \n",
      "\n",
      "gcta 0  gctt 0  gctg 0  gctc 0  \n",
      "\n",
      "gcga 0  gcgt 0  gcgg 0  gcgc 0  \n",
      "\n",
      "gcca 0  gcct 0  gccg 0  gccc 0  \n",
      "\n",
      "caaa 0  caat 0  caag 0  caac 0  \n",
      "\n",
      "cata 0  catt 0  catg 0  catc 0  \n",
      "\n",
      "caga 0  cagt 0  cagg 0  cagc 0  \n",
      "\n",
      "caca 0  cact 0  cacg 0  cacc 0  \n",
      "\n",
      "ctaa 0  ctat 0  ctag 0  ctac 0  \n",
      "\n",
      "ctta 0  cttt 0  cttg 0  cttc 0  \n",
      "\n",
      "ctga 0  ctgt 0  ctgg 0  ctgc 0  \n",
      "\n",
      "ctca 0  ctct 0  ctcg 0  ctcc 0  \n",
      "\n",
      "cgaa 0  cgat 0  cgag 0  cgac 0  \n",
      "\n",
      "cgta 0  cgtt 0  cgtg 0  cgtc 1  \n",
      "\n",
      "cgga 0  cggt 1  cggg 0  cggc 0  \n",
      "\n",
      "cgca 0  cgct 0  cgcg 0  cgcc 0  \n",
      "\n",
      "ccaa 0  ccat 0  ccag 0  ccac 0  \n",
      "\n",
      "ccta 0  cctt 0  cctg 0  cctc 0  \n",
      "\n",
      "ccga 0  ccgt 1  ccgg 0  ccgc 0  \n",
      "\n",
      "ccca 0  ccct 0  cccg 0  cccc 0  \n",
      "\n",
      "Graph\n",
      "aaa : [] \n",
      "\n",
      "aat : ['att'] \n",
      "\n",
      "aag : [] \n",
      "\n",
      "aac : [] \n",
      "\n",
      "ata : [] \n",
      "\n",
      "att : ['ttg'] \n",
      "\n",
      "atg : ['tga'] \n",
      "\n",
      "atc : [] \n",
      "\n",
      "aga : [] \n",
      "\n",
      "agt : [] \n",
      "\n",
      "agg : [] \n",
      "\n",
      "agc : [] \n",
      "\n",
      "aca : [] \n",
      "\n",
      "act : [] \n",
      "\n",
      "acg : [] \n",
      "\n",
      "acc : [] \n",
      "\n",
      "taa : [] \n",
      "\n",
      "tat : [] \n",
      "\n",
      "tag : [] \n",
      "\n",
      "tac : [] \n",
      "\n",
      "tta : [] \n",
      "\n",
      "ttt : [] \n",
      "\n",
      "ttg : ['tga'] \n",
      "\n",
      "ttc : [] \n",
      "\n",
      "tga : ['gaa', 'gat', 'gag'] \n",
      "\n",
      "tgt : [] \n",
      "\n",
      "tgg : [] \n",
      "\n",
      "tgc : [] \n",
      "\n",
      "tca : [] \n",
      "\n",
      "tct : [] \n",
      "\n",
      "tcg : ['cgg'] \n",
      "\n",
      "tcc : [] \n",
      "\n",
      "gaa : ['aat'] \n",
      "\n",
      "gat : ['atg'] \n",
      "\n",
      "gag : ['agc'] \n",
      "\n",
      "gac : [] \n",
      "\n",
      "gta : [] \n",
      "\n",
      "gtt : [] \n",
      "\n",
      "gtg : ['tga'] \n",
      "\n",
      "gtc : ['tcg'] \n",
      "\n",
      "gga : [] \n",
      "\n",
      "ggt : ['gtg'] \n",
      "\n",
      "ggg : [] \n",
      "\n",
      "ggc : [] \n",
      "\n",
      "gca : [] \n",
      "\n",
      "gct : [] \n",
      "\n",
      "gcg : [] \n",
      "\n",
      "gcc : [] \n",
      "\n",
      "caa : [] \n",
      "\n",
      "cat : [] \n",
      "\n",
      "cag : [] \n",
      "\n",
      "cac : [] \n",
      "\n",
      "cta : [] \n",
      "\n",
      "ctt : [] \n",
      "\n",
      "ctg : [] \n",
      "\n",
      "ctc : [] \n",
      "\n",
      "cga : [] \n",
      "\n",
      "cgt : ['gtc'] \n",
      "\n",
      "cgg : ['ggt'] \n",
      "\n",
      "cgc : [] \n",
      "\n",
      "cca : [] \n",
      "\n",
      "cct : [] \n",
      "\n",
      "ccg : ['cgt'] \n",
      "\n",
      "ccc : [] \n",
      "\n",
      "\n",
      "\n",
      "Euler Path\n",
      "['ccg', 'cgt', 'gtc', 'tcg', 'cgg', 'ggt', 'gtg', 'tga', 'gaa', 'aat', 'att', 'ttg', 'tga', 'gat', 'atg', 'tga', 'gag', 'agc']\n",
      "\n",
      "Reconstructed string: ccgtcggtgaattgatgagc\n",
      "Are the reconstructed string and the Original string the same ?  True\n",
      "Do the reconstructed string and the Original string have the same length ?  True\n"
     ]
    }
   ],
   "source": [
    "random_dnatest = randomDNA(20)\n",
    "print('Orginal Sequence ', random_dnatest)\n",
    "print('\\nSpectrum')\n",
    "spectrumtest = spectrum(4, random_dnatest)\n",
    "printSpectrum(spectrumtest)\n",
    "print('')\n",
    "print('\\nGraph')\n",
    "Graphtest = graphFromSpectrum(spectrumtest)\n",
    "printGraph(Graphtest)\n",
    "print('')\n",
    "print('\\nEuler Path')\n",
    "E = EulerPath(Graphtest)\n",
    "print(E)\n",
    "print('')\n",
    "String = stringFromPath(E)\n",
    "print('Reconstructed string: ', end='')\n",
    "print(String)\n",
    "print('Are the reconstructed string and the Original string the same ?  ', end='')\n",
    "print(random_dnatest == String)\n",
    "print('Do the reconstructed string and the Original string have the same length ?  ', end='')\n",
    "print(len(random_dnatest) == len(String))\n"
   ]
  },
  {
   "cell_type": "markdown",
   "id": "ba909902",
   "metadata": {},
   "source": [
    "### Question 1: Is your code guaranteed to reconstruct the original string?"
   ]
  },
  {
   "cell_type": "markdown",
   "id": "24b6782c",
   "metadata": {},
   "source": [
    "The answer is no, my code does not guarantee to reconstruct the original string. This is inherent to the approach itself rather than the code. However, as the goal of an Eulerian path is to pass through every edges only once, the reconstructed string and the original string will always have the same lentgh."
   ]
  },
  {
   "cell_type": "markdown",
   "id": "266f5e25",
   "metadata": {},
   "source": [
    "To represent the case where the reconstructed string and the original string are not the same I decided to use the NetworkX module in python. Please make sure that your decorator has the latest version. You can use ``pip install decorator --upgrade``. Otherwise, please skip this part and refer at the png file added to the work."
   ]
  },
  {
   "cell_type": "code",
   "execution_count": 16,
   "id": "623195ff",
   "metadata": {},
   "outputs": [],
   "source": [
    "import networkx as nx\n",
    "import matplotlib.pyplot as plt"
   ]
  },
  {
   "cell_type": "code",
   "execution_count": 17,
   "id": "893fe4cb",
   "metadata": {},
   "outputs": [],
   "source": [
    "Graphic = nx.DiGraph()\n",
    "node = [('A', {\"color\": \"green\"}),\n",
    "       ('B', {\"color\": \"red\"}),\n",
    "       ('C', {\"color\": \"red\"}),\n",
    "       ('D', {\"color\": \"red\"}),\n",
    "       ('E', {\"color\": \"red\"})]\n",
    "\n",
    "\n",
    "Graphic.add_nodes_from(node)\n",
    "\n",
    "edges = [('A','B'), ('B', 'C'), ('C', 'B'), ('B', 'D'), ('D','B'), ('B', 'E')]\n",
    "\n",
    "Graphic.add_edges_from(edges)"
   ]
  },
  {
   "cell_type": "code",
   "execution_count": 18,
   "id": "24f3502e",
   "metadata": {
    "scrolled": true
   },
   "outputs": [
    {
     "data": {
      "image/png": "[encoded data removed]",
      "text/plain": [
       "<Figure size 432x288 with 1 Axes>"
      ]
     },
     "metadata": {},
     "output_type": "display_data"
    }
   ],
   "source": [
    "ax = plt.subplot()\n",
    "\n",
    "nx.draw_networkx(Graphic, pos= {'A': [0,2], 'B': [1.982,2], 'C':[2,4], 'D':[2,0], 'E':[4,2]}, with_labels=True, \n",
    "                 node_color = 'orange', alpha = 0.9, edgelist = [])\n",
    "nx.draw_networkx_edges(Graphic, pos= {'A': [0,2], 'B': [1.982,2], 'C':[2,4], 'D':[2,0], 'E':[4,2]}, \n",
    "                       connectionstyle='arc3, rad=0.1')\n",
    "nx.draw_networkx_edge_labels(Graphic,pos={'A': [0,2], 'B': [2.15,2], 'C':[2.15,4], 'D':[2.15,0], 'E':[4,2]},\n",
    "                             edge_labels= {('D', 'B'): 'DB', ('B','C'): 'BC'}, horizontalalignment='left')\n",
    "nx.draw_networkx_edge_labels(Graphic,pos={'A': [0,2.2], 'B': [1.8,2], 'C':[1.8,4], 'D':[1.8,0], 'E':[4,2.2]},\n",
    "                             edge_labels= {('C', 'B'): 'CB', ('B','D'):'BD', ('A', 'B'): 'AB', ('B','E'): 'BE'}, horizontalalignment='right')\n",
    "\n",
    "plt.legend(['ABDBCBE', 'ABCBDBE'], shadow = True)\n",
    "plt.show()"
   ]
  },
  {
   "cell_type": "markdown",
   "id": "1d02cafe",
   "metadata": {},
   "source": [
    "As we can notice on this graph two Euler path can be computed, these are different following the chosen path, either from B to C first or B to D first. At the end, we have the computed string have the same size."
   ]
  },
  {
   "cell_type": "markdown",
   "id": "24a4c723",
   "metadata": {},
   "source": [
    "### Question 2: What would happen if we did not allow edges to appear multiple times?"
   ]
  },
  {
   "cell_type": "markdown",
   "id": "65ce6ae0",
   "metadata": {},
   "source": [
    "In the work we have a directed multigraph, this means that edges can appear multiple time. In the case where we would not allow the edges appearing multiple times, the algorithm would not reconstruct the original string. As we allow a single edge to appear, this means that there is only one connection between two similar nodes possible, therefore this would hinder the kmer repetitions in a string to be reconstructed. We would have a much shorter string than the original string."
   ]
  },
  {
   "cell_type": "markdown",
   "id": "ee7c39a1",
   "metadata": {},
   "source": [
    " - Example : orignal string 'ATAT' in a graph where nodes length would be then 1 and edges of length 2. The reconstructed string would be 'ATA'."
   ]
  },
  {
   "cell_type": "markdown",
   "id": "f04a30fd",
   "metadata": {},
   "source": [
    "### Question 3: What is the runtime of your functions ?"
   ]
  },
  {
   "cell_type": "code",
   "execution_count": 19,
   "id": "be9369e7",
   "metadata": {},
   "outputs": [],
   "source": [
    "import timeit\n",
    "import time"
   ]
  },
  {
   "cell_type": "code",
   "execution_count": 20,
   "id": "5b4cbe28",
   "metadata": {},
   "outputs": [],
   "source": [
    "def plotruntime(f,n, lmer,lmertest, ntest, trials = 1, figsize = [5,5]):\n",
    "    \"\"\" This function plots the runtime of a method in function of two parameters, either the length of the l-mer or \n",
    "        the lenght of the original string.\n",
    "        ::param:: f is the method that will be tested (i.e., spectrum, graphFromSpectrum, EulerPath).\n",
    "        ::param:: n is the length of the original string. range(starting_val, ending_val, stepsize) OR None\n",
    "        ::param:: lmer is the length of the lmer. range(starting_val, ending_val, stepsize) OR None\n",
    "        ::param:: lmertest (bool), True if you want to test for a fixed string length value and increasing lmer values.\n",
    "        ::param:: ntest (bool), True if you want to test for a fixed lmer value and increasing string length values.\n",
    "        ::param:: trials(int), used to repeat the time calculation, the time value will be averaged.\n",
    "        ::output:: Plot y = runtime, x= length of the string OR length of the lmer.\n",
    "    \"\"\"\n",
    "\n",
    "    \n",
    "   # Spectrum(s,l) testing\n",
    "\n",
    "    if f == spectrum and ntest == True:\n",
    "        \n",
    "        S= [randomDNA(m) for m in n]\n",
    "        Times=[timeit.timeit(lambda:f(3,elem),number=trials)/trials for elem in S]\n",
    "        fig, ax = plt.subplots(figsize=figsize)\n",
    "        ax.plot(n,Times, 'r')\n",
    "        ax.set_xlabel(\"string length\")\n",
    "        ax.set_ylabel(\"Runtime\")\n",
    "        plt.title('Runtime of spectrum for 4-lmer')\n",
    "        \n",
    "    if f == spectrum and lmertest == True:    \n",
    "        S= randomDNA(1000)\n",
    "        Times=[timeit.timeit(lambda:f(elem,S),number=trials)/trials for elem in lmer]\n",
    "        fig, ax = plt.subplots(figsize=figsize)\n",
    "        ax.plot(lmer,Times, 'r')\n",
    "        ax.set_xlabel(\"lmer length\")\n",
    "        ax.set_ylabel(\"Runtime [s]\")\n",
    "        plt.title('Runtime of spectrum for a string of length 1000') \n",
    "            \n",
    "            \n",
    "    # graphFromSpectrum(A) testing\n",
    "    \n",
    "    if f == graphFromSpectrum and ntest == True:\n",
    "        S= [randomDNA(m) for m in n]\n",
    "        A = [spectrum(4, elem) for elem in S]\n",
    "        Times=[timeit.timeit(lambda:f(i),number=trials)/trials for i in A ]\n",
    "        fig, ax = plt.subplots(figsize=figsize)\n",
    "        ax.plot(n,Times,'r')\n",
    "        ax.set_xlabel(\"string length\")\n",
    "        ax.set_ylabel(\"Runtime [s]\")\n",
    "        plt.title('Runtime of EulerPath for 4-lmer')\n",
    "            \n",
    "    \n",
    "    if f == graphFromSpectrum and lmertest == True:    \n",
    "        S= randomDNA(1000)\n",
    "        A = [spectrum(elem,S) for elem in lmer]\n",
    "        Times=[timeit.timeit(lambda:f(i),number=trials)/trials for i in A ]\n",
    "        fig, ax = plt.subplots(figsize=figsize)\n",
    "        ax.plot(lmer,Times,'r')\n",
    "        ax.set_xlabel(\"lmer length\")\n",
    "        ax.set_ylabel(\"Runtime [s]\")\n",
    "        plt.title('Runtime of graphFromSpectrum for a string of length 1000')  \n",
    "        \n",
    "        \n",
    "    #EulerPath(G) testing\n",
    "    \n",
    "    if f == EulerPath and ntest == True:\n",
    "        S= [randomDNA(m) for m in n]\n",
    "        A = [spectrum(4, elem) for elem in S]\n",
    "        G = [graphFromSpectrum(i) for i in A]\n",
    "        Times=[timeit.timeit(lambda:f(j),number=trials)/trials for j in G ]\n",
    "        fig, ax = plt.subplots(figsize=figsize)\n",
    "        ax.plot(n,Times,'r')\n",
    "        ax.set_xlabel(\"string length\")\n",
    "        ax.set_ylabel(\"Runtime [s]\")\n",
    "        plt.title('Runtime of EulerPath for 4-lmer')   \n",
    "    \n",
    "        \n",
    "    if f == EulerPath and lmertest == True:    \n",
    "        S= randomDNA(1000)\n",
    "        A = [spectrum(elem,S) for elem in lmer]\n",
    "        G = [graphFromSpectrum(i) for i in A]\n",
    "        Times=[timeit.timeit(lambda:f(j),number=trials)/trials for j in G ]\n",
    "        fig, ax = plt.subplots(figsize=figsize)\n",
    "        ax.plot(lmer,Times,'r')\n",
    "        ax.set_xlabel(\"lmer length\")\n",
    "        ax.set_ylabel(\"Runtime [s]\")\n",
    "        plt.title('Runtime of EulerPath for a string of length 1000')    \n",
    "        \n",
    "        "
   ]
  },
  {
   "cell_type": "markdown",
   "id": "6da49003",
   "metadata": {},
   "source": [
    "### 1) $spectrum(l,s)$"
   ]
  },
  {
   "cell_type": "code",
   "execution_count": 21,
   "id": "01a473f2",
   "metadata": {
    "scrolled": true
   },
   "outputs": [
    {
     "data": {
      "image/png": "[encoded data removed]",
      "text/plain": [
       "<Figure size 360x360 with 1 Axes>"
      ]
     },
     "metadata": {
      "needs_background": "light"
     },
     "output_type": "display_data"
    }
   ],
   "source": [
    "# Increasing string size\n",
    "plotruntime(spectrum, n=range(10,1000,10), lmer=None ,lmertest = False, ntest = True, trials=30)"
   ]
  },
  {
   "cell_type": "markdown",
   "id": "59204963",
   "metadata": {},
   "source": [
    "Increasing the length of the strings do not affect the computation of the spectrum for a fixed l-mer value. The runtime is <b>Linear </b>."
   ]
  },
  {
   "cell_type": "code",
   "execution_count": 22,
   "id": "1d66ce74",
   "metadata": {
    "scrolled": true
   },
   "outputs": [
    {
     "data": {
      "image/png": "[encoded data removed]",
      "text/plain": [
       "<Figure size 360x360 with 1 Axes>"
      ]
     },
     "metadata": {
      "needs_background": "light"
     },
     "output_type": "display_data"
    }
   ],
   "source": [
    "# Increasing l-mer size\n",
    "plotruntime(spectrum, n=None, lmer=range(1,10,1),lmertest = True, ntest = False, trials=2)"
   ]
  },
  {
   "cell_type": "markdown",
   "id": "5d64b18b",
   "metadata": {},
   "source": [
    "However, increasing the size of the l-mer we observe that the runtime is increasing <b> exponentially </b>."
   ]
  },
  {
   "cell_type": "markdown",
   "id": "44397f25",
   "metadata": {},
   "source": [
    "### 2) $graphFromSpectrum(A)$"
   ]
  },
  {
   "cell_type": "code",
   "execution_count": 27,
   "id": "e9d6a943",
   "metadata": {},
   "outputs": [
    {
     "data": {
      "image/png": "[encoded data removed]",
      "text/plain": [
       "<Figure size 360x360 with 1 Axes>"
      ]
     },
     "metadata": {
      "needs_background": "light"
     },
     "output_type": "display_data"
    }
   ],
   "source": [
    "# Increasing string size\n",
    "plotruntime(graphFromSpectrum, n=range(10,1000,10), lmer=None ,lmertest = False, ntest = True, trials=30)"
   ]
  },
  {
   "cell_type": "markdown",
   "id": "6cf6cc07",
   "metadata": {},
   "source": [
    "Increasing the length of the strings do not affect the computation of the graphFromSpectrum for a fixed l-mer value. The runtime is <b>Linear </b>."
   ]
  },
  {
   "cell_type": "code",
   "execution_count": 24,
   "id": "021d1abe",
   "metadata": {
    "scrolled": true
   },
   "outputs": [
    {
     "data": {
      "image/png": "[encoded data removed]",
      "text/plain": [
       "<Figure size 360x360 with 1 Axes>"
      ]
     },
     "metadata": {
      "needs_background": "light"
     },
     "output_type": "display_data"
    }
   ],
   "source": [
    "# Increasing l-mer size\n",
    "plotruntime(graphFromSpectrum, n=None, lmer=range(1,10,1) ,lmertest = True , ntest = False, trials=2)"
   ]
  },
  {
   "cell_type": "markdown",
   "id": "ac719983",
   "metadata": {},
   "source": [
    "However, increasing the size of the l-mer we observe that the runtime is increasing <b> exponentially </b>."
   ]
  },
  {
   "cell_type": "markdown",
   "id": "7e5c45b3",
   "metadata": {},
   "source": [
    "### 3) $EulerPath(G)$"
   ]
  },
  {
   "cell_type": "code",
   "execution_count": 25,
   "id": "9f863850",
   "metadata": {},
   "outputs": [
    {
     "data": {
      "image/png": "[encoded data removed]",
      "text/plain": [
       "<Figure size 360x360 with 1 Axes>"
      ]
     },
     "metadata": {
      "needs_background": "light"
     },
     "output_type": "display_data"
    }
   ],
   "source": [
    "# Increasing string size\n",
    "plotruntime(EulerPath, n=range(10,1000,10), lmer=None ,lmertest = False, ntest = True, trials=30)"
   ]
  },
  {
   "cell_type": "markdown",
   "id": "3e449238",
   "metadata": {},
   "source": [
    "Increasing the length of the strings do not affect the computation of the EulerPath for a fixed l-mer value. The runtime is <b>Linear </b>."
   ]
  },
  {
   "cell_type": "code",
   "execution_count": 26,
   "id": "255ff8c1",
   "metadata": {},
   "outputs": [
    {
     "data": {
      "image/png": "[encoded data removed]",
      "text/plain": [
       "<Figure size 360x360 with 1 Axes>"
      ]
     },
     "metadata": {
      "needs_background": "light"
     },
     "output_type": "display_data"
    }
   ],
   "source": [
    "# Increasing lmer size\n",
    "plotruntime(graphFromSpectrum, n=None, lmer=range(1,10,1) ,lmertest = True, ntest = False, trials=2)"
   ]
  },
  {
   "cell_type": "markdown",
   "id": "9e9abfa4",
   "metadata": {},
   "source": [
    "However, increasing the size of the l-mer we observe that the runtime is increasing <b> exponentially </b>."
   ]
  },
  {
   "cell_type": "markdown",
   "id": "6e49ebf7",
   "metadata": {},
   "source": [
    " "
   ]
  },
  {
   "cell_type": "markdown",
   "id": "78d70b28",
   "metadata": {},
   "source": [
    " "
   ]
  },
  {
   "cell_type": "markdown",
   "id": "6f07717d",
   "metadata": {},
   "source": [
    "To conclude this work, I can notice that for a fixed l-mer value which I can assume being much smaller than the length of the string, no matter the length of the original string, my implemented algorithm will have a linear runtime. I can therefore conclude that the algorithm is efficient. However, a drawback of the algorithm is that it will not always return the same original string, even if the lenght will be always the same."
   ]
  },
  {
   "cell_type": "markdown",
   "id": "87135a72",
   "metadata": {},
   "source": [
    "<div class=\"alert alert-block alert-info\">\n",
    "<b>Do not forget:</b> a PNG file with a Graph is annexed to the work</div>"
   ]
  }
 ],
 "metadata": {
  "kernelspec": {
   "display_name": "Python 3 (ipykernel)",
   "language": "python",
   "name": "python3"
  },
  "language_info": {
   "codemirror_mode": {
    "name": "ipython",
    "version": 3
   },
   "file_extension": ".py",
   "mimetype": "text/x-python",
   "name": "python",
   "nbconvert_exporter": "python",
   "pygments_lexer": "ipython3",
   "version": "3.10.4"
  }
 },
 "nbformat": 4,
 "nbformat_minor": 5
}
